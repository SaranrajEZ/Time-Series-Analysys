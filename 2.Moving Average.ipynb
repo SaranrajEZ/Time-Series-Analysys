{
 "cells": [
  {
   "cell_type": "code",
   "execution_count": 1,
   "id": "adba252d-ada9-4686-a10d-eb3a004792fe",
   "metadata": {},
   "outputs": [
    {
     "name": "stderr",
     "output_type": "stream",
     "text": [
      "[*********************100%%**********************]  1 of 1 completed\n"
     ]
    },
    {
     "data": {
      "text/html": [
       "<div>\n",
       "<style scoped>\n",
       "    .dataframe tbody tr th:only-of-type {\n",
       "        vertical-align: middle;\n",
       "    }\n",
       "\n",
       "    .dataframe tbody tr th {\n",
       "        vertical-align: top;\n",
       "    }\n",
       "\n",
       "    .dataframe thead th {\n",
       "        text-align: right;\n",
       "    }\n",
       "</style>\n",
       "<table border=\"1\" class=\"dataframe\">\n",
       "  <thead>\n",
       "    <tr style=\"text-align: right;\">\n",
       "      <th></th>\n",
       "      <th>Open</th>\n",
       "      <th>High</th>\n",
       "      <th>Low</th>\n",
       "      <th>Close</th>\n",
       "      <th>Adj Close</th>\n",
       "      <th>Volume</th>\n",
       "    </tr>\n",
       "    <tr>\n",
       "      <th>Date</th>\n",
       "      <th></th>\n",
       "      <th></th>\n",
       "      <th></th>\n",
       "      <th></th>\n",
       "      <th></th>\n",
       "      <th></th>\n",
       "    </tr>\n",
       "  </thead>\n",
       "  <tbody>\n",
       "    <tr>\n",
       "      <th>2021-06-01</th>\n",
       "      <td>753.549988</td>\n",
       "      <td>754.000000</td>\n",
       "      <td>741.150024</td>\n",
       "      <td>745.150024</td>\n",
       "      <td>741.917419</td>\n",
       "      <td>6660243</td>\n",
       "    </tr>\n",
       "    <tr>\n",
       "      <th>2021-06-02</th>\n",
       "      <td>744.799988</td>\n",
       "      <td>745.299988</td>\n",
       "      <td>734.200012</td>\n",
       "      <td>737.000000</td>\n",
       "      <td>733.802795</td>\n",
       "      <td>9973043</td>\n",
       "    </tr>\n",
       "    <tr>\n",
       "      <th>2021-06-03</th>\n",
       "      <td>743.000000</td>\n",
       "      <td>752.250000</td>\n",
       "      <td>739.000000</td>\n",
       "      <td>750.650024</td>\n",
       "      <td>747.393555</td>\n",
       "      <td>8170508</td>\n",
       "    </tr>\n",
       "    <tr>\n",
       "      <th>2021-06-04</th>\n",
       "      <td>751.000000</td>\n",
       "      <td>759.900024</td>\n",
       "      <td>740.099976</td>\n",
       "      <td>742.049988</td>\n",
       "      <td>738.830811</td>\n",
       "      <td>10336011</td>\n",
       "    </tr>\n",
       "    <tr>\n",
       "      <th>2021-06-07</th>\n",
       "      <td>743.099976</td>\n",
       "      <td>753.950012</td>\n",
       "      <td>741.500000</td>\n",
       "      <td>751.099976</td>\n",
       "      <td>747.841553</td>\n",
       "      <td>6986728</td>\n",
       "    </tr>\n",
       "    <tr>\n",
       "      <th>...</th>\n",
       "      <td>...</td>\n",
       "      <td>...</td>\n",
       "      <td>...</td>\n",
       "      <td>...</td>\n",
       "      <td>...</td>\n",
       "      <td>...</td>\n",
       "    </tr>\n",
       "    <tr>\n",
       "      <th>2021-12-29</th>\n",
       "      <td>674.500000</td>\n",
       "      <td>679.599976</td>\n",
       "      <td>667.250000</td>\n",
       "      <td>670.500000</td>\n",
       "      <td>667.591248</td>\n",
       "      <td>3969894</td>\n",
       "    </tr>\n",
       "    <tr>\n",
       "      <th>2021-12-30</th>\n",
       "      <td>668.000000</td>\n",
       "      <td>673.099976</td>\n",
       "      <td>664.500000</td>\n",
       "      <td>668.849976</td>\n",
       "      <td>665.948364</td>\n",
       "      <td>5119705</td>\n",
       "    </tr>\n",
       "    <tr>\n",
       "      <th>2021-12-31</th>\n",
       "      <td>672.950012</td>\n",
       "      <td>686.500000</td>\n",
       "      <td>671.200012</td>\n",
       "      <td>678.549988</td>\n",
       "      <td>675.606262</td>\n",
       "      <td>5586980</td>\n",
       "    </tr>\n",
       "    <tr>\n",
       "      <th>2022-01-03</th>\n",
       "      <td>680.250000</td>\n",
       "      <td>698.500000</td>\n",
       "      <td>679.000000</td>\n",
       "      <td>696.349976</td>\n",
       "      <td>693.329041</td>\n",
       "      <td>8550860</td>\n",
       "    </tr>\n",
       "    <tr>\n",
       "      <th>2022-01-04</th>\n",
       "      <td>701.000000</td>\n",
       "      <td>711.049988</td>\n",
       "      <td>700.049988</td>\n",
       "      <td>709.150024</td>\n",
       "      <td>706.073608</td>\n",
       "      <td>9705906</td>\n",
       "    </tr>\n",
       "  </tbody>\n",
       "</table>\n",
       "<p>150 rows × 6 columns</p>\n",
       "</div>"
      ],
      "text/plain": [
       "                  Open        High         Low       Close   Adj Close  \\\n",
       "Date                                                                     \n",
       "2021-06-01  753.549988  754.000000  741.150024  745.150024  741.917419   \n",
       "2021-06-02  744.799988  745.299988  734.200012  737.000000  733.802795   \n",
       "2021-06-03  743.000000  752.250000  739.000000  750.650024  747.393555   \n",
       "2021-06-04  751.000000  759.900024  740.099976  742.049988  738.830811   \n",
       "2021-06-07  743.099976  753.950012  741.500000  751.099976  747.841553   \n",
       "...                ...         ...         ...         ...         ...   \n",
       "2021-12-29  674.500000  679.599976  667.250000  670.500000  667.591248   \n",
       "2021-12-30  668.000000  673.099976  664.500000  668.849976  665.948364   \n",
       "2021-12-31  672.950012  686.500000  671.200012  678.549988  675.606262   \n",
       "2022-01-03  680.250000  698.500000  679.000000  696.349976  693.329041   \n",
       "2022-01-04  701.000000  711.049988  700.049988  709.150024  706.073608   \n",
       "\n",
       "              Volume  \n",
       "Date                  \n",
       "2021-06-01   6660243  \n",
       "2021-06-02   9973043  \n",
       "2021-06-03   8170508  \n",
       "2021-06-04  10336011  \n",
       "2021-06-07   6986728  \n",
       "...              ...  \n",
       "2021-12-29   3969894  \n",
       "2021-12-30   5119705  \n",
       "2021-12-31   5586980  \n",
       "2022-01-03   8550860  \n",
       "2022-01-04   9705906  \n",
       "\n",
       "[150 rows x 6 columns]"
      ]
     },
     "execution_count": 1,
     "metadata": {},
     "output_type": "execute_result"
    }
   ],
   "source": [
    "import pandas as pd\n",
    "\n",
    "from univariate import univariate\n",
    "\n",
    "Obj=univariate()\n",
    "\n",
    "#!pip install yfinance\n",
    "from nsepy import get_history\n",
    "import datetime as dt\n",
    "import yfinance as yf\n",
    "    \n",
    "# Define the start and end dates\n",
    "start = dt.datetime(2021, 6, 1)\n",
    "end = dt.datetime(2022, 1, 5)\n",
    "symbol='AXISBANK.NS'\n",
    "    \n",
    "stk_data=yf.download(symbol, start=start, end=end)\n",
    "stk_data"
   ]
  },
  {
   "cell_type": "code",
   "execution_count": 2,
   "id": "8889864e-bda8-4834-9df8-349cbbfcacb6",
   "metadata": {},
   "outputs": [
    {
     "data": {
      "text/html": [
       "<div>\n",
       "<style scoped>\n",
       "    .dataframe tbody tr th:only-of-type {\n",
       "        vertical-align: middle;\n",
       "    }\n",
       "\n",
       "    .dataframe tbody tr th {\n",
       "        vertical-align: top;\n",
       "    }\n",
       "\n",
       "    .dataframe thead th {\n",
       "        text-align: right;\n",
       "    }\n",
       "</style>\n",
       "<table border=\"1\" class=\"dataframe\">\n",
       "  <thead>\n",
       "    <tr style=\"text-align: right;\">\n",
       "      <th></th>\n",
       "      <th>Open</th>\n",
       "      <th>High</th>\n",
       "      <th>Low</th>\n",
       "      <th>Close</th>\n",
       "    </tr>\n",
       "    <tr>\n",
       "      <th>Date</th>\n",
       "      <th></th>\n",
       "      <th></th>\n",
       "      <th></th>\n",
       "      <th></th>\n",
       "    </tr>\n",
       "  </thead>\n",
       "  <tbody>\n",
       "    <tr>\n",
       "      <th>2021-06-01</th>\n",
       "      <td>753.549988</td>\n",
       "      <td>754.000000</td>\n",
       "      <td>741.150024</td>\n",
       "      <td>745.150024</td>\n",
       "    </tr>\n",
       "    <tr>\n",
       "      <th>2021-06-02</th>\n",
       "      <td>744.799988</td>\n",
       "      <td>745.299988</td>\n",
       "      <td>734.200012</td>\n",
       "      <td>737.000000</td>\n",
       "    </tr>\n",
       "    <tr>\n",
       "      <th>2021-06-03</th>\n",
       "      <td>743.000000</td>\n",
       "      <td>752.250000</td>\n",
       "      <td>739.000000</td>\n",
       "      <td>750.650024</td>\n",
       "    </tr>\n",
       "    <tr>\n",
       "      <th>2021-06-04</th>\n",
       "      <td>751.000000</td>\n",
       "      <td>759.900024</td>\n",
       "      <td>740.099976</td>\n",
       "      <td>742.049988</td>\n",
       "    </tr>\n",
       "    <tr>\n",
       "      <th>2021-06-07</th>\n",
       "      <td>743.099976</td>\n",
       "      <td>753.950012</td>\n",
       "      <td>741.500000</td>\n",
       "      <td>751.099976</td>\n",
       "    </tr>\n",
       "    <tr>\n",
       "      <th>...</th>\n",
       "      <td>...</td>\n",
       "      <td>...</td>\n",
       "      <td>...</td>\n",
       "      <td>...</td>\n",
       "    </tr>\n",
       "    <tr>\n",
       "      <th>2021-12-29</th>\n",
       "      <td>674.500000</td>\n",
       "      <td>679.599976</td>\n",
       "      <td>667.250000</td>\n",
       "      <td>670.500000</td>\n",
       "    </tr>\n",
       "    <tr>\n",
       "      <th>2021-12-30</th>\n",
       "      <td>668.000000</td>\n",
       "      <td>673.099976</td>\n",
       "      <td>664.500000</td>\n",
       "      <td>668.849976</td>\n",
       "    </tr>\n",
       "    <tr>\n",
       "      <th>2021-12-31</th>\n",
       "      <td>672.950012</td>\n",
       "      <td>686.500000</td>\n",
       "      <td>671.200012</td>\n",
       "      <td>678.549988</td>\n",
       "    </tr>\n",
       "    <tr>\n",
       "      <th>2022-01-03</th>\n",
       "      <td>680.250000</td>\n",
       "      <td>698.500000</td>\n",
       "      <td>679.000000</td>\n",
       "      <td>696.349976</td>\n",
       "    </tr>\n",
       "    <tr>\n",
       "      <th>2022-01-04</th>\n",
       "      <td>701.000000</td>\n",
       "      <td>711.049988</td>\n",
       "      <td>700.049988</td>\n",
       "      <td>709.150024</td>\n",
       "    </tr>\n",
       "  </tbody>\n",
       "</table>\n",
       "<p>150 rows × 4 columns</p>\n",
       "</div>"
      ],
      "text/plain": [
       "                  Open        High         Low       Close\n",
       "Date                                                      \n",
       "2021-06-01  753.549988  754.000000  741.150024  745.150024\n",
       "2021-06-02  744.799988  745.299988  734.200012  737.000000\n",
       "2021-06-03  743.000000  752.250000  739.000000  750.650024\n",
       "2021-06-04  751.000000  759.900024  740.099976  742.049988\n",
       "2021-06-07  743.099976  753.950012  741.500000  751.099976\n",
       "...                ...         ...         ...         ...\n",
       "2021-12-29  674.500000  679.599976  667.250000  670.500000\n",
       "2021-12-30  668.000000  673.099976  664.500000  668.849976\n",
       "2021-12-31  672.950012  686.500000  671.200012  678.549988\n",
       "2022-01-03  680.250000  698.500000  679.000000  696.349976\n",
       "2022-01-04  701.000000  711.049988  700.049988  709.150024\n",
       "\n",
       "[150 rows x 4 columns]"
      ]
     },
     "execution_count": 2,
     "metadata": {},
     "output_type": "execute_result"
    }
   ],
   "source": [
    "stk_data=stk_data[['Open','High','Low','Close']]\n",
    "stk_data"
   ]
  },
  {
   "cell_type": "code",
   "execution_count": 3,
   "id": "f42793a7-c14a-4664-a8ff-9dfa1c3ff3a6",
   "metadata": {},
   "outputs": [
    {
     "data": {
      "text/html": [
       "<div>\n",
       "<style scoped>\n",
       "    .dataframe tbody tr th:only-of-type {\n",
       "        vertical-align: middle;\n",
       "    }\n",
       "\n",
       "    .dataframe tbody tr th {\n",
       "        vertical-align: top;\n",
       "    }\n",
       "\n",
       "    .dataframe thead th {\n",
       "        text-align: right;\n",
       "    }\n",
       "</style>\n",
       "<table border=\"1\" class=\"dataframe\">\n",
       "  <thead>\n",
       "    <tr style=\"text-align: right;\">\n",
       "      <th></th>\n",
       "      <th>Open</th>\n",
       "      <th>High</th>\n",
       "      <th>Low</th>\n",
       "      <th>Close</th>\n",
       "    </tr>\n",
       "    <tr>\n",
       "      <th>Date</th>\n",
       "      <th></th>\n",
       "      <th></th>\n",
       "      <th></th>\n",
       "      <th></th>\n",
       "    </tr>\n",
       "  </thead>\n",
       "  <tbody>\n",
       "    <tr>\n",
       "      <th>2021-06-01</th>\n",
       "      <td>753.549988</td>\n",
       "      <td>754.000000</td>\n",
       "      <td>741.150024</td>\n",
       "      <td>745.150024</td>\n",
       "    </tr>\n",
       "    <tr>\n",
       "      <th>2021-06-02</th>\n",
       "      <td>744.799988</td>\n",
       "      <td>745.299988</td>\n",
       "      <td>734.200012</td>\n",
       "      <td>737.000000</td>\n",
       "    </tr>\n",
       "    <tr>\n",
       "      <th>2021-06-03</th>\n",
       "      <td>743.000000</td>\n",
       "      <td>752.250000</td>\n",
       "      <td>739.000000</td>\n",
       "      <td>750.650024</td>\n",
       "    </tr>\n",
       "    <tr>\n",
       "      <th>2021-06-04</th>\n",
       "      <td>751.000000</td>\n",
       "      <td>759.900024</td>\n",
       "      <td>740.099976</td>\n",
       "      <td>742.049988</td>\n",
       "    </tr>\n",
       "    <tr>\n",
       "      <th>2021-06-07</th>\n",
       "      <td>743.099976</td>\n",
       "      <td>753.950012</td>\n",
       "      <td>741.500000</td>\n",
       "      <td>751.099976</td>\n",
       "    </tr>\n",
       "    <tr>\n",
       "      <th>...</th>\n",
       "      <td>...</td>\n",
       "      <td>...</td>\n",
       "      <td>...</td>\n",
       "      <td>...</td>\n",
       "    </tr>\n",
       "    <tr>\n",
       "      <th>2021-12-29</th>\n",
       "      <td>674.500000</td>\n",
       "      <td>679.599976</td>\n",
       "      <td>667.250000</td>\n",
       "      <td>670.500000</td>\n",
       "    </tr>\n",
       "    <tr>\n",
       "      <th>2021-12-30</th>\n",
       "      <td>668.000000</td>\n",
       "      <td>673.099976</td>\n",
       "      <td>664.500000</td>\n",
       "      <td>668.849976</td>\n",
       "    </tr>\n",
       "    <tr>\n",
       "      <th>2021-12-31</th>\n",
       "      <td>672.950012</td>\n",
       "      <td>686.500000</td>\n",
       "      <td>671.200012</td>\n",
       "      <td>678.549988</td>\n",
       "    </tr>\n",
       "    <tr>\n",
       "      <th>2022-01-03</th>\n",
       "      <td>680.250000</td>\n",
       "      <td>698.500000</td>\n",
       "      <td>679.000000</td>\n",
       "      <td>696.349976</td>\n",
       "    </tr>\n",
       "    <tr>\n",
       "      <th>2022-01-04</th>\n",
       "      <td>701.000000</td>\n",
       "      <td>711.049988</td>\n",
       "      <td>700.049988</td>\n",
       "      <td>709.150024</td>\n",
       "    </tr>\n",
       "  </tbody>\n",
       "</table>\n",
       "<p>150 rows × 4 columns</p>\n",
       "</div>"
      ],
      "text/plain": [
       "                  Open        High         Low       Close\n",
       "Date                                                      \n",
       "2021-06-01  753.549988  754.000000  741.150024  745.150024\n",
       "2021-06-02  744.799988  745.299988  734.200012  737.000000\n",
       "2021-06-03  743.000000  752.250000  739.000000  750.650024\n",
       "2021-06-04  751.000000  759.900024  740.099976  742.049988\n",
       "2021-06-07  743.099976  753.950012  741.500000  751.099976\n",
       "...                ...         ...         ...         ...\n",
       "2021-12-29  674.500000  679.599976  667.250000  670.500000\n",
       "2021-12-30  668.000000  673.099976  664.500000  668.849976\n",
       "2021-12-31  672.950012  686.500000  671.200012  678.549988\n",
       "2022-01-03  680.250000  698.500000  679.000000  696.349976\n",
       "2022-01-04  701.000000  711.049988  700.049988  709.150024\n",
       "\n",
       "[150 rows x 4 columns]"
      ]
     },
     "execution_count": 3,
     "metadata": {},
     "output_type": "execute_result"
    }
   ],
   "source": [
    "stk_data=stk_data[['Open','High','Low','Close']]\n",
    "stk_data"
   ]
  },
  {
   "cell_type": "code",
   "execution_count": 4,
   "id": "9310c829-c847-4383-a314-4e6ad71da18f",
   "metadata": {},
   "outputs": [
    {
     "name": "stdout",
     "output_type": "stream",
     "text": [
      "len: (150, 1)\n"
     ]
    }
   ],
   "source": [
    "column='Close'\n",
    "\n",
    "from sklearn.preprocessing import MinMaxScaler\n",
    "ms=MinMaxScaler()\n",
    "data1=ms.fit_transform(stk_data[[column]])\n",
    "print('len:',data1.shape)\n"
   ]
  },
  {
   "cell_type": "code",
   "execution_count": 5,
   "id": "6ded9f3b-24a9-4599-b0ab-4af443a811bc",
   "metadata": {},
   "outputs": [
    {
     "data": {
      "text/plain": [
       "150"
      ]
     },
     "execution_count": 5,
     "metadata": {},
     "output_type": "execute_result"
    }
   ],
   "source": [
    "len(data1)"
   ]
  },
  {
   "cell_type": "code",
   "execution_count": 6,
   "id": "5fe2b1e5-b3ec-441a-ac16-21c22592c3c5",
   "metadata": {},
   "outputs": [
    {
     "name": "stdout",
     "output_type": "stream",
     "text": [
      "120\n",
      "X_train length: (120, 1)\n",
      "X_test length: (30, 1)\n",
      "y_train length: (120, 1)\n",
      "y_test length: (30, 1)\n"
     ]
    }
   ],
   "source": [
    "training_size = round(len(data1 ) * 0.80)\n",
    "print(training_size)\n",
    "X_train=data1[:training_size]\n",
    "X_test=data1[training_size: ]\n",
    "print(\"X_train length:\",X_train.shape)\n",
    "print(\"X_test length:\",X_test.shape)\n",
    "y_train=data1[:training_size]\n",
    "y_test=data1[training_size: ]\n",
    "print(\"y_train length:\",y_train.shape)\n",
    "print(\"y_test length:\",y_test.shape)"
   ]
  },
  {
   "cell_type": "code",
   "execution_count": 7,
   "id": "d475eb28-0704-43c7-99e1-27254738b852",
   "metadata": {},
   "outputs": [],
   "source": [
    "import warnings\n",
    "warnings.filterwarnings(\"ignore\")"
   ]
  },
  {
   "cell_type": "code",
   "execution_count": 8,
   "id": "f1280c94-82b0-4d2a-8b73-ae7f2e833b0f",
   "metadata": {},
   "outputs": [
    {
     "name": "stderr",
     "output_type": "stream",
     "text": [
      "C:\\Users\\saran\\anaconda3\\envs\\aimachine\\lib\\site-packages\\statsmodels\\base\\model.py:607: ConvergenceWarning: Maximum Likelihood optimization failed to converge. Check mle_retvals\n",
      "  warnings.warn(\"Maximum Likelihood optimization failed to \"\n"
     ]
    },
    {
     "name": "stdout",
     "output_type": "stream",
     "text": [
      "Trend=n\n",
      "RMSE-Testset: 0.17952057823222592\n",
      "maPe-Testset: 4772432318766.497\n",
      "************\n"
     ]
    },
    {
     "name": "stderr",
     "output_type": "stream",
     "text": [
      "C:\\Users\\saran\\anaconda3\\envs\\aimachine\\lib\\site-packages\\statsmodels\\base\\model.py:607: ConvergenceWarning: Maximum Likelihood optimization failed to converge. Check mle_retvals\n",
      "  warnings.warn(\"Maximum Likelihood optimization failed to \"\n"
     ]
    },
    {
     "name": "stdout",
     "output_type": "stream",
     "text": [
      "Trend=t\n",
      "RMSE-Testset: 0.7291763982208165\n",
      "maPe-Testset: 80717371512228.66\n",
      "************\n"
     ]
    },
    {
     "name": "stderr",
     "output_type": "stream",
     "text": [
      "C:\\Users\\saran\\anaconda3\\envs\\aimachine\\lib\\site-packages\\statsmodels\\base\\model.py:607: ConvergenceWarning: Maximum Likelihood optimization failed to converge. Check mle_retvals\n",
      "  warnings.warn(\"Maximum Likelihood optimization failed to \"\n"
     ]
    },
    {
     "name": "stdout",
     "output_type": "stream",
     "text": [
      "Trend=c\n",
      "RMSE-Testset: 0.3669409571184322\n",
      "maPe-Testset: 53491056681567.48\n",
      "************\n",
      "Trend=ct\n",
      "RMSE-Testset: 0.4035664445567253\n",
      "maPe-Testset: 56685884847842.78\n",
      "************\n"
     ]
    },
    {
     "name": "stderr",
     "output_type": "stream",
     "text": [
      "C:\\Users\\saran\\anaconda3\\envs\\aimachine\\lib\\site-packages\\statsmodels\\base\\model.py:607: ConvergenceWarning: Maximum Likelihood optimization failed to converge. Check mle_retvals\n",
      "  warnings.warn(\"Maximum Likelihood optimization failed to \"\n"
     ]
    }
   ],
   "source": [
    "from sklearn.metrics import mean_squared_error\n",
    "trends=['n','t','c','ct']\n",
    "orders=[(0,0,1),(0,0,2)]\n",
    "from statsmodels.tsa.arima.model import ARIMA\n",
    "for td in trends:\n",
    "        \n",
    "        #print(td)\n",
    "        #trendslist.append(td)\n",
    "    model = ARIMA(X_train, order=(0,0,10),trend=td,)\n",
    "    model_fit = model.fit()\n",
    "        # make prediction\n",
    "    y_pred= model_fit.predict(len(X_train), len(data1)-1)\n",
    "        #print(y_pred)\n",
    "    from sklearn.metrics import r2_score\n",
    "    mse=mean_squared_error(y_test,y_pred,squared=False)\n",
    "    from stockFunctions import rmsemape\n",
    "    print(\"Trend={}\".format(td))\n",
    "    rmsemape(y_test,y_pred)\n",
    "    print(\"************\")"
   ]
  },
  {
   "cell_type": "code",
   "execution_count": 9,
   "id": "ec19ebcf-d778-4210-aa0d-c2e3ea486603",
   "metadata": {},
   "outputs": [
    {
     "data": {
      "text/plain": [
       "30"
      ]
     },
     "execution_count": 9,
     "metadata": {},
     "output_type": "execute_result"
    }
   ],
   "source": [
    "len(y_pred)"
   ]
  },
  {
   "cell_type": "code",
   "execution_count": 10,
   "id": "3e2bc08d-0654-4625-b738-24dbc66d6d0c",
   "metadata": {},
   "outputs": [
    {
     "name": "stderr",
     "output_type": "stream",
     "text": [
      "C:\\Users\\saran\\anaconda3\\envs\\aimachine\\lib\\site-packages\\statsmodels\\base\\model.py:607: ConvergenceWarning: Maximum Likelihood optimization failed to converge. Check mle_retvals\n",
      "  warnings.warn(\"Maximum Likelihood optimization failed to \"\n"
     ]
    },
    {
     "name": "stdout",
     "output_type": "stream",
     "text": [
      "Trend=n\n",
      "RMSE-Testset: 0.22765280120156645\n",
      "maPe-Testset: 10773206926611.607\n",
      "************\n"
     ]
    }
   ],
   "source": [
    "#i=1\n",
    "td=\"n\"\n",
    "model = ARIMA(X_train, order=(0,0,30),trend=td)\n",
    "model_fit = model.fit()\n",
    "# make prediction\n",
    "y_pred= model_fit.predict(len(X_train), len(data1)-1)\n",
    "#print(y_pred)\n",
    "from sklearn.metrics import r2_score\n",
    "mse=mean_squared_error(y_test,y_pred,squared=False)\n",
    "from stockFunctions import rmsemape\n",
    "print(\"Trend={}\".format(td))\n",
    "rmsemape(y_test,y_pred)\n",
    "print(\"************\")"
   ]
  },
  {
   "cell_type": "code",
   "execution_count": 11,
   "id": "f120a9ae-a86d-41a1-9b38-883b587c60c8",
   "metadata": {},
   "outputs": [
    {
     "data": {
      "image/png": "[encoded data removed]",
      "text/plain": [
       "<Figure size 1000x500 with 1 Axes>"
      ]
     },
     "metadata": {},
     "output_type": "display_data"
    }
   ],
   "source": [
    "from stockFunctions import graph\n",
    "graph(y_test,y_pred,\"Actual\",\"Predicted\",\"AXISBANK-Close-MA-Norm\",\"Days\",\"Prices\")"
   ]
  },
  {
   "cell_type": "code",
   "execution_count": 12,
   "id": "8d46b2f7-a78c-4166-ba62-489fb873d727",
   "metadata": {},
   "outputs": [
    {
     "data": {
      "text/plain": [
       "150"
      ]
     },
     "execution_count": 12,
     "metadata": {},
     "output_type": "execute_result"
    }
   ],
   "source": [
    "len(data1)"
   ]
  },
  {
   "cell_type": "code",
   "execution_count": 13,
   "id": "13b3201c-9592-43a5-9fe5-f35298a82703",
   "metadata": {},
   "outputs": [],
   "source": [
    "from stockFunctions import conversionSingle\n",
    "aTestNormTable=conversionSingle(y_test,[column])\n",
    "actual_stock_price_test_ori=ms.inverse_transform(aTestNormTable)\n",
    "actual_stock_price_test_oriA=conversionSingle(actual_stock_price_test_ori,[column])"
   ]
  },
  {
   "cell_type": "code",
   "execution_count": 14,
   "id": "90488ca2-27fe-4cb3-903e-9bc38b7a0b05",
   "metadata": {},
   "outputs": [],
   "source": [
    "from stockFunctions import conversionSingle\n",
    "pTestNormTable=conversionSingle(y_pred,[\"Close\"])\n",
    "predicted_stock_price_test_ori=ms.inverse_transform(pTestNormTable)\n",
    "predicted_stock_price_test_oriP=conversionSingle(predicted_stock_price_test_ori,[\"Close\"])"
   ]
  },
  {
   "cell_type": "code",
   "execution_count": 15,
   "id": "90d9c534-a09d-4519-b26d-1afd26f5b3f4",
   "metadata": {},
   "outputs": [
    {
     "data": {
      "image/png": "[encoded data removed]",
      "text/plain": [
       "<Figure size 1000x500 with 1 Axes>"
      ]
     },
     "metadata": {},
     "output_type": "display_data"
    }
   ],
   "source": [
    "from stockFunctions import graph\n",
    "graph(actual_stock_price_test_oriA,predicted_stock_price_test_oriP,\"Actual\",\"Predicted\",\"AXISBANK-Close-MA-Ori\",\"Days\",\"Prices\")"
   ]
  },
  {
   "cell_type": "code",
   "execution_count": 16,
   "id": "2f90c01d-1f3f-42ca-a679-1b1b1c6e2adf",
   "metadata": {},
   "outputs": [
    {
     "name": "stdout",
     "output_type": "stream",
     "text": [
      "RMSE-Testset: 44.164643433103905\n",
      "maPe-Testset: 0.0575401178967421\n"
     ]
    }
   ],
   "source": [
    "from stockFunctions import rmsemape\n",
    "rmsemape(actual_stock_price_test_oriA,predicted_stock_price_test_oriP)"
   ]
  },
  {
   "cell_type": "code",
   "execution_count": 17,
   "id": "bc86adb1-0686-4a59-8abc-ab2d96c067ed",
   "metadata": {},
   "outputs": [],
   "source": [
    "forecast=model_fit.predict(len(data1), len(data1)+3)"
   ]
  },
  {
   "cell_type": "code",
   "execution_count": 18,
   "id": "f0d81830-b15c-4945-ad85-5fb98137f34e",
   "metadata": {},
   "outputs": [
    {
     "data": {
      "text/plain": [
       "array([0., 0., 0., 0.])"
      ]
     },
     "execution_count": 18,
     "metadata": {},
     "output_type": "execute_result"
    }
   ],
   "source": [
    "forecast"
   ]
  },
  {
   "cell_type": "code",
   "execution_count": 19,
   "id": "9825a503-c07b-491c-9d6d-076b621d7d34",
   "metadata": {},
   "outputs": [
    {
     "data": {
      "text/html": [
       "<div>\n",
       "<style scoped>\n",
       "    .dataframe tbody tr th:only-of-type {\n",
       "        vertical-align: middle;\n",
       "    }\n",
       "\n",
       "    .dataframe tbody tr th {\n",
       "        vertical-align: top;\n",
       "    }\n",
       "\n",
       "    .dataframe thead th {\n",
       "        text-align: right;\n",
       "    }\n",
       "</style>\n",
       "<table border=\"1\" class=\"dataframe\">\n",
       "  <thead>\n",
       "    <tr style=\"text-align: right;\">\n",
       "      <th></th>\n",
       "      <th>Closefore</th>\n",
       "    </tr>\n",
       "  </thead>\n",
       "  <tbody>\n",
       "    <tr>\n",
       "      <th>0</th>\n",
       "      <td>651.099976</td>\n",
       "    </tr>\n",
       "    <tr>\n",
       "      <th>1</th>\n",
       "      <td>651.099976</td>\n",
       "    </tr>\n",
       "    <tr>\n",
       "      <th>2</th>\n",
       "      <td>651.099976</td>\n",
       "    </tr>\n",
       "    <tr>\n",
       "      <th>3</th>\n",
       "      <td>651.099976</td>\n",
       "    </tr>\n",
       "  </tbody>\n",
       "</table>\n",
       "</div>"
      ],
      "text/plain": [
       "    Closefore\n",
       "0  651.099976\n",
       "1  651.099976\n",
       "2  651.099976\n",
       "3  651.099976"
      ]
     },
     "execution_count": 19,
     "metadata": {},
     "output_type": "execute_result"
    }
   ],
   "source": [
    "from stockFunctions import conversionSingle\n",
    "fTestNormTable=conversionSingle(forecast,[\"Closefore\"])\n",
    "forecast_stock_price_test_ori=ms.inverse_transform(fTestNormTable)\n",
    "forecast_stock_price_test_oriF=conversionSingle(forecast_stock_price_test_ori,[\"Closefore\"])\n",
    "forecast_stock_price_test_oriF"
   ]
  },
  {
   "cell_type": "code",
   "execution_count": 20,
   "id": "904050f7-5032-4c67-9f89-7c0404fdf943",
   "metadata": {},
   "outputs": [],
   "source": [
    "forecast_stock_price_test_oriF.to_csv(\"CloseAR.csv\",index=False)"
   ]
  },
  {
   "cell_type": "code",
   "execution_count": 21,
   "id": "229711ba-b362-4ab2-9e2d-6879dddf89e4",
   "metadata": {},
   "outputs": [
    {
     "data": {
      "text/plain": [
       "[<matplotlib.lines.Line2D at 0x1db05fd3910>]"
      ]
     },
     "execution_count": 21,
     "metadata": {},
     "output_type": "execute_result"
    },
    {
     "data": {
      "image/png": "[encoded data removed]",
      "text/plain": [
       "<Figure size 1000x500 with 1 Axes>"
      ]
     },
     "metadata": {},
     "output_type": "display_data"
    }
   ],
   "source": [
    "import matplotlib.pyplot as plt\n",
    "plt.figure(figsize=(10,5))\n",
    "plt.plot(actual_stock_price_test_oriA[116:145], color = 'blue', label=\"Actual\")\n",
    "plt.plot(forecast_stock_price_test_oriF, color = 'red', label =\"Predicted\")"
   ]
  },
  {
   "cell_type": "code",
   "execution_count": null,
   "id": "08ef350c-cd77-419a-8d02-146ae7edfddb",
   "metadata": {},
   "outputs": [],
   "source": []
  }
 ],
 "metadata": {
  "kernelspec": {
   "display_name": "Python 3 (ipykernel)",
   "language": "python",
   "name": "python3"
  },
  "language_info": {
   "codemirror_mode": {
    "name": "ipython",
    "version": 3
   },
   "file_extension": ".py",
   "mimetype": "text/x-python",
   "name": "python",
   "nbconvert_exporter": "python",
   "pygments_lexer": "ipython3",
   "version": "3.10.14"
  }
 },
 "nbformat": 4,
 "nbformat_minor": 5
}
